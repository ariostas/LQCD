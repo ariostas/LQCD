{
 "cells": [
  {
   "cell_type": "markdown",
   "metadata": {},
   "source": [
    "# Nucleon charges / form factors\n",
    "\n",
    "### Parameter list"
   ]
  },
  {
   "cell_type": "code",
   "execution_count": 1,
   "metadata": {
    "collapsed": false
   },
   "outputs": [],
   "source": [
    "const size_s = 16\n",
    "const size_t = 64\n",
    "const t_gen_ev = 0\n",
    "const t_var = 18\n",
    "const t_sn = 18\n",
    "const t_sink = 16\n",
    "const g = 7\n",
    "const i = 0\n",
    "const had = \"proton\"\n",
    "const m = \"-0.8999\"\n",
    "const seqsource = \"NUCL_D_UNPOL\"\n",
    "const current = \"nonlocal\"\n",
    "const pf_src = (-1,0,0)\n",
    "const pf_snk = (0,0,0)\n",
    "const q = (pf_snk[1]-pf_src[1],pf_snk[2]-pf_src[2],pf_snk[3]-pf_src[3])\n",
    "const file_prefix = \"/home/arios/Documents/LQCDConfigs/wil_16_60_aniso_cluster/\"\n",
    "const sources = [\"DG0_1\", \"DG1_1\", \"DG1_1\", \"DG2_1\", \"DG2_1\"]\n",
    "const sinks = [\"DG0_1\", \"DG1_1\", \"DG1_1\", \"DG2_1\", \"DG2_1\"];"
   ]
  },
  {
   "cell_type": "markdown",
   "metadata": {},
   "source": [
    "### Paremeter description\n",
    "\n",
    "- size_s: spatial size.\n",
    "- size_t: temporal size.\n",
    "- t_gen_ev: time-slice used for generalized eigenvalue problem.\n",
    "- t_var: time-slice used for picking the variational vector.\n",
    "- t_sn: time-slice used for picking the s/n optimized vector.\n",
    "- t_sink: time of the sink.\n",
    "- g: gamma matrix of interest (see table below).\n",
    "- i: gamma insertion at the source.\n",
    "- file_prefix: location of the data.\n",
    "- sources/sinks: vectors containning types of sources/sinks.\n",
    "\n",
    "### $\\gamma$-matrices\n",
    "\\begin{array}{|ccc|ccc|} \\hline\n",
    "\\Gamma & n_\\Gamma & \\text{state} & \\Gamma & n_\\Gamma & \\text{state} \\\\ \\hline\n",
    "1 & 0 & a_0 & \\gamma_4 & 8 & a_0 \\\\ \\hline\n",
    "\\gamma_1 & 1 & \\rho(x) & \\gamma_1\\gamma_4 & 9 & \\rho(x) \\\\ \\hline\n",
    "\\gamma_2 & 2 & \\rho(y) & \\gamma_2\\gamma_4 & 10 & \\rho(y) \\\\ \\hline\n",
    "\\gamma_1\\gamma_2 & 3 & b_1(z) & \\gamma_3\\gamma_5 & 11 & a_1(z) \\\\ \\hline\n",
    "\\gamma_3 & 4 & \\rho(z) & \\gamma_3\\gamma_4 & 12 & \\rho(z) \\\\ \\hline\n",
    "\\gamma_1\\gamma_3 & 5 & -b_1(y) & -\\gamma_2\\gamma_5 & 13 & -a_1(y) \\\\ \\hline\n",
    "\\gamma_2\\gamma_3 & 6 & b_1(x) & \\gamma_1\\gamma_5 & 14 & a_1(x) \\\\ \\hline\n",
    "-\\gamma_4\\gamma_5 & 7 & \\pi & \\gamma_5 & 15 & \\pi \\\\ \\hline\n",
    "\\end{array}\n",
    "\n",
    "\n",
    "### Load data"
   ]
  },
  {
   "cell_type": "code",
   "execution_count": 2,
   "metadata": {
    "collapsed": false
   },
   "outputs": [
    {
     "ename": "LoadError",
     "evalue": "SystemError: opening file /home/arios/Documents/LQCDConfigs/wil_16_60_aniso_cluster/bar3ptfn/nonlocal_cur3ptfn_NUCL_D_UNPOL_i0_g7_qx1_qy0_qz0_pfx0_pfy0_pfz0.DG0_1.DG0_1.sh_1_sh_1.SS: No such file or directory",
     "output_type": "error",
     "traceback": [
      "SystemError: opening file /home/arios/Documents/LQCDConfigs/wil_16_60_aniso_cluster/bar3ptfn/nonlocal_cur3ptfn_NUCL_D_UNPOL_i0_g7_qx1_qy0_qz0_pfx0_pfy0_pfz0.DG0_1.DG0_1.sh_1_sh_1.SS: No such file or directory",
      "",
      " in #systemerror#51 at ./error.jl:34 [inlined]",
      " in systemerror(::String, ::Bool) at ./error.jl:34",
      " in open(::String, ::Bool, ::Bool, ::Bool, ::Bool, ::Bool) at ./iostream.jl:89",
      " in open(::lqcd.##3#4, ::String) at ./iostream.jl:111",
      " in read_bar3ptfn_file(::String, ::String, ::Int64, ::Int64, ::Tuple{Int64,Int64,Int64}, ::Tuple{Int64,Int64,Int64}, ::Array{String,1}, ::Array{String,1}, ::String) at /home/arios/Documents/LQCD/FormFactor/lqcd.jl:58"
     ]
    }
   ],
   "source": [
    "push!(LOAD_PATH, pwd())\n",
    "using lqcd\n",
    "\n",
    "const nucleon_3ptfn = read_bar3ptfn_file(seqsource, current, i, g, q, pf_snk, sources, sinks, file_prefix)\n",
    "const nucleon_2ptfn_src = read_hadspec_file(had, m, pf_src, sources, sinks, file_prefix)\n",
    "const nucleon_2ptfn_snk = read_hadspec_file(had, m, pf_snk, sources, sinks, file_prefix)"
   ]
  },
  {
   "cell_type": "markdown",
   "metadata": {},
   "source": [
    "### Process data"
   ]
  },
  {
   "cell_type": "code",
   "execution_count": null,
   "metadata": {
    "collapsed": true
   },
   "outputs": [],
   "source": []
  }
 ],
 "metadata": {
  "anaconda-cloud": {},
  "kernelspec": {
   "display_name": "Julia 0.5.0",
   "language": "julia",
   "name": "julia-0.5"
  },
  "language_info": {
   "file_extension": ".jl",
   "mimetype": "application/julia",
   "name": "julia",
   "version": "0.5.0"
  }
 },
 "nbformat": 4,
 "nbformat_minor": 1
}
