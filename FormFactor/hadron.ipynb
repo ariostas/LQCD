{
 "cells": [
  {
   "cell_type": "markdown",
   "metadata": {},
   "source": [
    "# Hadron charges / form factors\n",
    "\n",
    "### Parameter list"
   ]
  },
  {
   "cell_type": "code",
   "execution_count": null,
   "metadata": {
    "collapsed": false
   },
   "outputs": [],
   "source": [
    "# Commonly changed parameters\n",
    "const hadron = \"rho\"\n",
    "const γ = 8\n",
    "const p_src = (-1,0,0)\n",
    "const p_snk = (0,0,0)\n",
    "const fit_data = false\n",
    "\n",
    "# Other parameters\n",
    "const size_s = 16\n",
    "const size_t = 60\n",
    "const m = \"-8999\"\n",
    "const q = (p_snk[1]-p_src[1],p_snk[2]-p_src[2],p_snk[3]-p_src[3])\n",
    "const sources = [\"DG0_1\", \"DG1_1\", \"DG1_1\", \"DG2_1\", \"DG2_1\"]\n",
    "const sinks = [\"DG0_1\", \"DG1_1\", \"DG1_1\", \"DG2_1\", \"DG2_1\"]\n",
    "const file_prefix = \"/home/arios/Documents/LQCDConfigs/wil_16_60_aniso_cluster/\" * hadron * \"/\"\n",
    "\n",
    "if γ ∈ [1,2,4,8,7,11,13,14]\n",
    "    const curr = \"nonlocal\"\n",
    "else\n",
    "    const curr = \"local\"\n",
    "end\n",
    "\n",
    "if hadron == \"rho\"\n",
    "    const t_gen_ev = 0\n",
    "    const t_var = 10\n",
    "    const t_sn = 10\n",
    "    const t_sink = 21\n",
    "    const γ_ins = 1\n",
    "    const had = \"rho_x\"\n",
    "    const seqsource = \"a0-rho_x_1\";\n",
    "elseif hadron == \"nucleon_pol\"\n",
    "    const t_gen_ev = 0\n",
    "    const t_var = 10\n",
    "    const t_sn = 10\n",
    "    const t_sink = 21\n",
    "    const γ_ins = 1\n",
    "    const had = \"rho_x\"\n",
    "    const seqsource = \"a0-rho_x_1\";\n",
    "elseif hadron == \"nucleon_unpol\"\n",
    "    const t_gen_ev = 0\n",
    "    const t_var = 10\n",
    "    const t_sn = 10\n",
    "    const t_sink = 21\n",
    "    const γ_ins = 1\n",
    "    const had = \"rho_x\"\n",
    "    const seqsource = \"a0-rho_x_1\";\n",
    "end"
   ]
  },
  {
   "cell_type": "markdown",
   "metadata": {},
   "source": [
    "### Paremeter description\n",
    "\n",
    "- size_s: spatial size.\n",
    "- size_t: temporal size.\n",
    "- t_gen_ev: time-slice used for generalized eigenvalue problem.\n",
    "- t_var: time-slice used for picking the variational vector.\n",
    "- t_sn: time-slice used for picking the s/n optimized vector.\n",
    "- t_sink: time of the sink.\n",
    "- g: gamma matrix of interest (see table below).\n",
    "- i: gamma insertion at the source.\n",
    "- file_prefix: location of the data.\n",
    "- sources/sinks: vectors containning types of sources/sinks.\n",
    "\n",
    "### $\\gamma$-matrices\n",
    "\\begin{array}{|ccc|ccc|} \\hline\n",
    "\\Gamma & n_\\Gamma & \\text{state} & \\Gamma & n_\\Gamma & \\text{state} \\\\ \\hline\n",
    "1 & 0 & a_0 & \\gamma_4 & 8 & a_0 \\\\ \\hline\n",
    "\\gamma_1 & 1 & \\rho(x) & \\gamma_1\\gamma_4 & 9 & \\rho(x) \\\\ \\hline\n",
    "\\gamma_2 & 2 & \\rho(y) & \\gamma_2\\gamma_4 & 10 & \\rho(y) \\\\ \\hline\n",
    "\\gamma_1\\gamma_2 & 3 & b_1(z) & \\gamma_3\\gamma_5 & 11 & a_1(z) \\\\ \\hline\n",
    "\\gamma_3 & 4 & \\rho(z) & \\gamma_3\\gamma_4 & 12 & \\rho(z) \\\\ \\hline\n",
    "\\gamma_1\\gamma_3 & 5 & -b_1(y) & -\\gamma_2\\gamma_5 & 13 & -a_1(y) \\\\ \\hline\n",
    "\\gamma_2\\gamma_3 & 6 & b_1(x) & \\gamma_1\\gamma_5 & 14 & a_1(x) \\\\ \\hline\n",
    "-\\gamma_4\\gamma_5 & 7 & \\pi & \\gamma_5 & 15 & \\pi \\\\ \\hline\n",
    "\\end{array}\n",
    "\n",
    "\n",
    "### Load modules and data"
   ]
  },
  {
   "cell_type": "code",
   "execution_count": null,
   "metadata": {
    "collapsed": false
   },
   "outputs": [],
   "source": [
    "push!(LOAD_PATH, pwd())\n",
    "using lqcd, lqcdfits, PyPlot\n",
    "\n",
    "const had_3ptfn = read_bar3ptfn_file(seqsource, curr, γ_ins, γ, q, p_snk, sources, sinks, file_prefix)\n",
    "const had_2ptfn_src = read_hadspec_file(had, m, p_src, sources, sinks, file_prefix)\n",
    "const had_2ptfn_snk = read_hadspec_file(had, m, p_snk, sources, sinks, file_prefix);"
   ]
  },
  {
   "cell_type": "markdown",
   "metadata": {},
   "source": [
    "### Process data"
   ]
  },
  {
   "cell_type": "code",
   "execution_count": null,
   "metadata": {
    "collapsed": false,
    "scrolled": false
   },
   "outputs": [],
   "source": [
    "had_ff, had_ff_err, had_allff = find_ff_with2ptfn(had_3ptfn, had_2ptfn_src, had_2ptfn_snk, t_sink, t_gen_ev, t_var, t_sn);"
   ]
  },
  {
   "cell_type": "markdown",
   "metadata": {},
   "source": [
    "### Plots using smeared sources and sinks"
   ]
  },
  {
   "cell_type": "code",
   "execution_count": null,
   "metadata": {
    "collapsed": false,
    "scrolled": false
   },
   "outputs": [],
   "source": [
    "type_labels = [\"Point\", \"\\$G1\\$\", \"\\$\\\\nabla^2 G1\\$\", \"\\$G2\\$\", \"\\$\\\\nabla^2 G2\\$\", \"Var\", \"Var + S/N\", \"S/N\"]\n",
    "figure(1, figsize=(16, 16))\n",
    "for x in 1:8\n",
    "    subplot(810+x)\n",
    "    ax = gca()\n",
    "    errorbar(0:(length(had_ff[x,:])-1), had_ff[x,:], yerr=had_ff_err[x,:], color=\"b\", ecolor=\"b\", capsize=2, fmt=\"o\")\n",
    "    ylabel(\"\\$R\\$\", fontsize=20)\n",
    "    text(10., 0.88, type_labels[x], fontsize=20)\n",
    "    xlim(-0.5, t_sink+0.5)\n",
    "    ylim(0.4, 1)\n",
    "    yticks(0.4:0.2:1.)\n",
    "    if x == 5\n",
    "        xlabel(\"\\$\\\\tau\\$\", fontsize=20)\n",
    "    else\n",
    "        xticks([])\n",
    "    end\n",
    "    for tick in ax[:yaxis][:get_major_ticks]()\n",
    "            tick[:label][:set_fontsize](16)\n",
    "    end\n",
    "    if x == 0\n",
    "        plt.suptitle(hadron, fontsize=30)\n",
    "    end\n",
    "end"
   ]
  },
  {
   "cell_type": "markdown",
   "metadata": {
    "collapsed": true
   },
   "source": [
    "### Plots using variational method and s/n optimization"
   ]
  },
  {
   "cell_type": "code",
   "execution_count": null,
   "metadata": {
    "collapsed": false
   },
   "outputs": [],
   "source": [
    "type_labels = [\"Point\", \"\\$G1\\$\", \"\\$\\\\nabla^2 G1\\$\", \"\\$G2\\$\", \"\\$\\\\nabla^2 G2\\$\", \"Var\", \"Var + S/N\", \"S/N\"]\n",
    "figure(1, figsize=(16, Int64(floor(12/5*3))))\n",
    "for x in 1:3\n",
    "    subplot(310+x)\n",
    "    errorbar(0:(length(had_ff[x+5,:])-1), had_ff[x+5,:], yerr=had_ff_err[x+5,:], color=\"b\", ecolor=\"b\", capsize=2, fmt=\"o\")\n",
    "    ylabel(\"\\$R\\$\", fontsize=20)\n",
    "    text(10., 0.9, type_labels[x+5], fontsize=20)\n",
    "    xlim(-0.5, t_sink+0.5)\n",
    "    ylim(0.4, 1)\n",
    "    if x == 3\n",
    "        xlabel(\"\\$\\\\tau\\$\", fontsize=20)\n",
    "    end\n",
    "end"
   ]
  },
  {
   "cell_type": "code",
   "execution_count": null,
   "metadata": {
    "collapsed": false
   },
   "outputs": [],
   "source": [
    "# testing fitting\n",
    "for x in 5:19\n",
    "    println(\"x=\",x)\n",
    "    fit_corr(had_allff[:,4,:], 3, x, [0.4, 1.])\n",
    "end"
   ]
  }
 ],
 "metadata": {
  "anaconda-cloud": {},
  "kernelspec": {
   "display_name": "Julia 0.5.0",
   "language": "julia",
   "name": "julia-0.5"
  },
  "language_info": {
   "file_extension": ".jl",
   "mimetype": "application/julia",
   "name": "julia",
   "version": "0.5.0"
  }
 },
 "nbformat": 4,
 "nbformat_minor": 1
}
