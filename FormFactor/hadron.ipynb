{
 "cells": [
  {
   "cell_type": "raw",
   "metadata": {},
   "source": [
    "<script>\n",
    "  jQuery(document).ready(function($) {\n",
    "\n",
    "  $(window).load(function(){\n",
    "    $('#preloader').fadeOut('slow',function(){$(this).remove();});\n",
    "  });\n",
    "\n",
    "  });\n",
    "</script>\n",
    "\n",
    "<style type=\"text/css\">\n",
    "  div#preloader { position: fixed;\n",
    "      left: 0;\n",
    "      top: 0;\n",
    "      z-index: 999;\n",
    "      width: 100%;\n",
    "      height: 100%;\n",
    "      overflow: visible;\n",
    "      background: #fff url('http://preloaders.net/preloaders/720/Moving%20line.gif') no-repeat center center;\n",
    "  }\n",
    "\n",
    "</style>\n",
    "\n",
    "<div id=\"preloader\"></div>\n",
    "\n",
    "<script>\n",
    "  function code_toggle() {\n",
    "    if (code_shown){\n",
    "      $('div.input').hide('500');\n",
    "      $('#toggleButton').val('Show Code')\n",
    "    } else {\n",
    "      $('div.input').show('500');\n",
    "      $('#toggleButton').val('Hide Code')\n",
    "    }\n",
    "    code_shown = !code_shown\n",
    "  }\n",
    "\n",
    "  $( document ).ready(function(){\n",
    "    code_shown=false;\n",
    "    $('div.input').hide()\n",
    "  });\n",
    "</script>\n",
    "<form action=\"javascript:code_toggle()\"><input type=\"submit\" id=\"toggleButton\" value=\"Show Code\"></form>"
   ]
  },
  {
   "cell_type": "markdown",
   "metadata": {},
   "source": [
    "# Hadron charges / form factors\n",
    "\n",
    "### Parameter list"
   ]
  },
  {
   "cell_type": "code",
   "execution_count": null,
   "metadata": {
    "collapsed": false
   },
   "outputs": [],
   "source": [
    "# Commonly changed parameters\n",
    "const hadron = \"rho\"\n",
    "const g = 8\n",
    "const p_src = (-1,0,0)\n",
    "const p_snk = (0,0,0)\n",
    "const fit_data = true\n",
    "\n",
    "# Other parameters\n",
    "const size_s = 16\n",
    "const size_t = 60\n",
    "const m = \"-8999\"\n",
    "const q = (p_snk[1]-p_src[1],p_snk[2]-p_src[2],p_snk[3]-p_src[3])\n",
    "const sources = [\"DG0_1\", \"DG1_1\", \"DG1_1\", \"DG2_1\", \"DG2_1\"]\n",
    "const sinks = [\"DG0_1\", \"DG1_1\", \"DG1_1\", \"DG2_1\", \"DG2_1\"]\n",
    "const file_prefix = \"/home/arios/Documents/LQCDConfigs/wil_16_60_aniso_cluster/\" * hadron * \"/\"\n",
    "\n",
    "if g in [1,2,4,8,7,11,13,14]\n",
    "    const curr = \"nonlocal\"\n",
    "else\n",
    "    const curr = \"local\"\n",
    "end\n",
    "\n",
    "if hadron == \"rho\"\n",
    "    const t_gen_ev = 0\n",
    "    const t_var = 10\n",
    "    const t_sn = 10\n",
    "    const t_sink = 21\n",
    "    const g_ins = 1\n",
    "    const had = \"rho_x\"\n",
    "    const seqsource = \"a0-rho_x_1\"\n",
    "elseif hadron == \"nucleon_pol\"\n",
    "    const t_gen_ev = 0\n",
    "    const t_var = 18\n",
    "    const t_sn = 18\n",
    "    const t_sink = 21\n",
    "    const g_ins = 0\n",
    "    const had = \"NUCL_D_POL\"\n",
    "    const seqsource = \"a0-rho_x_1\"\n",
    "elseif hadron == \"nucleon_unpol\"\n",
    "    const t_gen_ev = 0\n",
    "    const t_var = 18\n",
    "    const t_sn = 18\n",
    "    const t_sink = 21\n",
    "    const g_ins = 0\n",
    "    const had = \"rho_x\"\n",
    "    const seqsource = \"NUCL_D_UNPOL\"\n",
    "end;"
   ]
  },
  {
   "cell_type": "markdown",
   "metadata": {},
   "source": [
    "### $\\gamma$-matrices cheat sheet\n",
    "\n",
    "  $\\Gamma$ | $n_\\Gamma$ | Particle State || $\\Gamma$ | $n_\\Gamma$ | Particle State\n",
    "  :---------:|:------------:|:---------:||:--------:|:--------:|:-----------:\n",
    "  1 | 0 | $a_0$ || $\\gamma_4$ | 8 | $a_0$\n",
    "  $\\gamma_1$ | 1 | $\\rho(x)$ || $\\gamma_1\\gamma_4$ | 9 | $\\rho(x)$\n",
    "  $\\gamma_2$ | 2 | $\\rho(y)$ || $\\gamma_2\\gamma_4$ | 10 | $\\rho(y)$\n",
    "  $\\gamma_1\\gamma_2$ | 3 | $b_1(z)$ || $\\gamma_3\\gamma_5$ | 11 | $a_1(z)$\n",
    "  $\\gamma_3$ | 4 | $\\rho(z)$ || $\\gamma_3\\gamma_4$ | 12 | $\\rho(z)$\n",
    "  $\\gamma_1\\gamma_3$ | 5 | $-b_1(y)$ || $-\\gamma_2\\gamma_5$ | 13 | $-a_1(y)$\n",
    "  $\\gamma_2\\gamma_3$ | 6 | $b_1(x)$ || $\\gamma_1\\gamma_5$ | 14 | $a_1(x)$\n",
    "  $-\\gamma_4\\gamma_5$ | 7 | $\\pi$ || $\\gamma_5$ | 15 | $\\pi$\n",
    "\n",
    "The table was taken from [here](https://rqcd.uni-regensburg.de/chroma-tutorial/chroma_gamma_matrices.pdf).\n",
    "\n",
    "### Load modules and data"
   ]
  },
  {
   "cell_type": "code",
   "execution_count": null,
   "metadata": {
    "collapsed": false
   },
   "outputs": [],
   "source": [
    "push!(LOAD_PATH, pwd())\n",
    "using lqcd, lqcdfits, PyPlot\n",
    "\n",
    "const had_3ptfn = read_bar3ptfn_file(seqsource, curr, g_ins, g, q, p_snk, sources, sinks, file_prefix)\n",
    "const had_2ptfn_src = read_hadspec_file(had, m, p_src, sources, sinks, file_prefix)\n",
    "const had_2ptfn_snk = read_hadspec_file(had, m, p_snk, sources, sinks, file_prefix);"
   ]
  },
  {
   "cell_type": "markdown",
   "metadata": {},
   "source": [
    "### Process data"
   ]
  },
  {
   "cell_type": "code",
   "execution_count": null,
   "metadata": {
    "collapsed": false,
    "scrolled": false
   },
   "outputs": [],
   "source": [
    "had_mass, had_mass_err, had_ff, had_ff_err = find_mass_and_ff(had_3ptfn, had_2ptfn_src, had_2ptfn_snk, t_sink, t_gen_ev, t_var, t_sn);"
   ]
  },
  {
   "cell_type": "markdown",
   "metadata": {},
   "source": [
    "### Fit data"
   ]
  },
  {
   "cell_type": "code",
   "execution_count": null,
   "metadata": {
    "collapsed": false
   },
   "outputs": [],
   "source": [
    "if fit_data\n",
    "    limits, mass_sys, mass_sys_err = scan_range_2ptfn(had_2ptfn_snk, t_gen_ev, t_var, t_sn, [4e-7, 0.3], func=\"cosh\")\n",
    "    mass_stat, mass_stat_err = find_mass_fit(had_2ptfn_snk, t_gen_ev, t_var, t_sn, limits, [4e-7, 0.3], func=\"cosh\")\n",
    "end"
   ]
  },
  {
   "cell_type": "markdown",
   "metadata": {},
   "source": [
    "### Mass plots\n",
    "\n",
    "Here are a few mass plots just to verify that things are working correctly."
   ]
  },
  {
   "cell_type": "code",
   "execution_count": null,
   "metadata": {
    "collapsed": false
   },
   "outputs": [],
   "source": [
    "type_labels = [\"Point\", \"\\$G1\\$\", \"\\$\\\\nabla^2 G1\\$\", \"\\$G2\\$\", \"\\$\\\\nabla^2 G2\\$\", \"Var\", \"Var + S/N\", \"S/N\"]\n",
    "figure(1, figsize=(16, 16))\n",
    "for x in 1:8\n",
    "    subplot(810+x)\n",
    "    errorbar(0:(length(had_mass[x,:])-1), had_mass[x,:], yerr=had_mass_err[x,:], color=\"b\", ecolor=\"b\", capsize=2, fmt=\"o\")\n",
    "    ylabel(\"\\$R\\$\", fontsize=20)\n",
    "    text(15., 1.1, type_labels[x], fontsize=20)\n",
    "    xlim(-0.5, size_t/2+0.5)\n",
    "    ylim(0., 1.5)\n",
    "    yticks(0.:0.3:1.5, fontsize=16)\n",
    "    if x == 8\n",
    "        xlabel(\"\\$\\\\tau\\$\", fontsize=20)\n",
    "        xticks(0:5:30, fontsize=16)\n",
    "    else\n",
    "        xticks([])\n",
    "    end\n",
    "end"
   ]
  },
  {
   "cell_type": "markdown",
   "metadata": {},
   "source": [
    "### Show results from the mass fits (if available)"
   ]
  },
  {
   "cell_type": "code",
   "execution_count": null,
   "metadata": {
    "collapsed": false,
    "scrolled": true
   },
   "outputs": [],
   "source": [
    "if fit_data\n",
    "    type_labels = [\"Point\", \"\\$G1\\$\", \"\\$\\\\nabla^2 G1\\$\", \"\\$G2\\$\", \"\\$\\\\nabla^2 G2\\$\", \"Var\", \"Var + S/N\", \"S/N\"]\n",
    "    println(\"Effective masses extracted from the fit\\n\\n\")\n",
    "    for x in 1:8\n",
    "        name = type_labels[x]*\" \"^(13-length(type_labels[x]))\n",
    "        @printf \"%s: %.4f +- %.4f (stat) +- %.4f (sys)\\n\" name mass_stat[x] mass_stat_err[x] mass_sys_err[x]\n",
    "    end\n",
    "    figure(1, figsize=(16, 16))\n",
    "    for x in 1:8\n",
    "        subplot(810+x)\n",
    "        errorbar(0:(length(had_mass[x,:])-1), had_mass[x,:], yerr=had_mass_err[x,:], color=\"b\", ecolor=\"b\", capsize=2, fmt=\"o\")\n",
    "        ylabel(\"\\$R\\$\", fontsize=20)\n",
    "        text(15., 0.55, type_labels[x], fontsize=20)\n",
    "        xlim(-0.5, size_t/2+0.5)\n",
    "        ylim(0., 0.7)\n",
    "        yticks(0.:0.2:0.6, fontsize=16)\n",
    "        if x == 8\n",
    "            xlabel(\"\\$\\\\tau\\$\", fontsize=20)\n",
    "            xticks(0:5:30, fontsize=16)\n",
    "        else\n",
    "            xticks([])\n",
    "        end\n",
    "        times = [(limits[x,1]:limits[x,2])-1;]\n",
    "        y = [log(cosh_func(i,size_t,[1.,mass_stat[x]])/cosh_func(i+1,size_t,[1.,mass_stat[x]])) for i in limits[x,1]:limits[x,2]]\n",
    "        yminuserr = [log(cosh_func(i,size_t,[1.,mass_stat[x]-mass_stat_err[x]-mass_sys_err[x]])/cosh_func(i+1,size_t,[1.,mass_stat[x]-mass_stat_err[x]-mass_sys_err[x]])) for i in limits[x,1]:limits[x,2]]\n",
    "        ypluserr = [log(cosh_func(i,size_t,[1.,mass_stat[x]+mass_stat_err[x]+mass_sys_err[x]])/cosh_func(i+1,size_t,[1.,mass_stat[x]+mass_stat_err[x]+mass_sys_err[x]])) for i in limits[x,1]:limits[x,2]]\n",
    "        plot(times, y, color=\"red\")\n",
    "        fill_between(times, yminuserr, ypluserr, alpha=0.3, color=\"red\")\n",
    "    end\n",
    "end"
   ]
  },
  {
   "cell_type": "markdown",
   "metadata": {},
   "source": [
    "### Charge/form factor plots"
   ]
  },
  {
   "cell_type": "code",
   "execution_count": null,
   "metadata": {
    "collapsed": false,
    "scrolled": false
   },
   "outputs": [],
   "source": [
    "type_labels = [\"Point\", \"\\$G1\\$\", \"\\$\\\\nabla^2 G1\\$\", \"\\$G2\\$\", \"\\$\\\\nabla^2 G2\\$\", \"Var\", \"Var + S/N\", \"S/N\"]\n",
    "figure(1, figsize=(16, 16))\n",
    "for x in 1:8\n",
    "    subplot(810+x)\n",
    "    ax = gca()\n",
    "    errorbar(0:(length(had_ff[x,:])-1), had_ff[x,:], yerr=had_ff_err[x,:], color=\"b\", ecolor=\"b\", capsize=2, fmt=\"o\")\n",
    "    ylabel(\"\\$R\\$\", fontsize=20)\n",
    "    text(10., 0.88, type_labels[x], fontsize=20)\n",
    "    xlim(-0.5, t_sink+0.5)\n",
    "    ylim(0.4, 1)\n",
    "    yticks(0.4:0.2:1., fontsize=16)\n",
    "    if x == 8\n",
    "        xlabel(\"\\$\\\\tau\\$\", fontsize=20)\n",
    "        xticks(0:5:t_sink, fontsize=16)\n",
    "    else\n",
    "        xticks([])\n",
    "    end\n",
    "end"
   ]
  }
 ],
 "metadata": {
  "anaconda-cloud": {},
  "hide_input": false,
  "kernelspec": {
   "display_name": "Julia 0.5.0",
   "language": "julia",
   "name": "julia-0.5"
  },
  "language_info": {
   "file_extension": ".jl",
   "mimetype": "application/julia",
   "name": "julia",
   "version": "0.5.0"
  }
 },
 "nbformat": 4,
 "nbformat_minor": 1
}
