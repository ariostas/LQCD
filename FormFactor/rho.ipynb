{
 "cells": [
  {
   "cell_type": "raw",
   "metadata": {},
   "source": [
    "<script>\n",
    "  jQuery(document).ready(function($) {\n",
    "\n",
    "  $(window).load(function(){\n",
    "    $('#preloader').fadeOut('slow',function(){$(this).remove();});\n",
    "  });\n",
    "\n",
    "  });\n",
    "</script>\n",
    "\n",
    "<style type=\"text/css\">\n",
    "  div#preloader { position: fixed;\n",
    "      left: 0;\n",
    "      top: 0;\n",
    "      z-index: 999;\n",
    "      width: 100%;\n",
    "      height: 100%;\n",
    "      overflow: visible;\n",
    "      background: #fff url('http://preloaders.net/preloaders/720/Moving%20line.gif') no-repeat center center;\n",
    "  }\n",
    "\n",
    "</style>\n",
    "\n",
    "<div id=\"preloader\"></div>\n",
    "\n",
    "<script>\n",
    "  function code_toggle() {\n",
    "    if (code_shown){\n",
    "      $('div.input').hide('500');\n",
    "      $('#toggleButton').val('Show Code')\n",
    "    } else {\n",
    "      $('div.input').show('500');\n",
    "      $('#toggleButton').val('Hide Code')\n",
    "    }\n",
    "    code_shown = !code_shown\n",
    "  }\n",
    "\n",
    "  $( document ).ready(function(){\n",
    "    code_shown=false;\n",
    "    $('div.input').hide()\n",
    "  });\n",
    "</script>\n",
    "<form action=\"javascript:code_toggle()\"><input type=\"submit\" id=\"toggleButton\" value=\"Show Code\"></form>"
   ]
  },
  {
   "cell_type": "markdown",
   "metadata": {},
   "source": [
    "# Rho $\\gamma_4$-current"
   ]
  },
  {
   "cell_type": "code",
   "execution_count": null,
   "metadata": {
    "collapsed": false
   },
   "outputs": [],
   "source": [
    "### Parameter list ###\n",
    "\n",
    "# Commonly changed parameters\n",
    "g = 8\n",
    "p_src = (0,-1,0)\n",
    "p_snk = (0,0,0)\n",
    "make_hermitian = false\n",
    "fit_data = false\n",
    "hide_prog = false\n",
    "\n",
    "# Other parameters\n",
    "size_s = 16\n",
    "size_t = 60\n",
    "m = \"-8999\"\n",
    "q = (p_snk[1]-p_src[1],p_snk[2]-p_src[2],p_snk[3]-p_src[3])\n",
    "sources = [\"DG0_1\", \"DG1_1\", \"DG1_1\", \"DG2_1\", \"DG2_1\"]\n",
    "sinks = [\"DG0_1\", \"DG1_1\", \"DG1_1\", \"DG2_1\", \"DG2_1\"]\n",
    "t_gen_ev = 0\n",
    "t_var = 10\n",
    "t_sn = 10\n",
    "t_sink = [15, 18, 21]\n",
    "g_ins = 1\n",
    "had = \"rho_x\"\n",
    "seqsource = \"a0-rho_x_1\"\n",
    "file_prefix = [\"/home/arios/Documents/LQCDConfigs/wil_16_60_aniso_cluster/rho/t$(t_sink[i])/\" for i in 1:length(t_sink)]\n",
    "\n",
    "if g in [1,2,4,8,7,11,13,14]\n",
    "    curr = \"nonlocal\"\n",
    "else\n",
    "    curr = \"local\"\n",
    "end;"
   ]
  },
  {
   "cell_type": "code",
   "execution_count": null,
   "metadata": {
    "collapsed": false
   },
   "outputs": [],
   "source": [
    "### Load modules and data ###\n",
    "\n",
    "push!(LOAD_PATH, pwd())\n",
    "using lqcd, lqcdfits, PyPlot, Interact\n",
    "\n",
    "had_3ptfn = [read_bar3ptfn_file(seqsource, curr, g_ins, g, q, p_snk, sources, sinks, file_prefix[i]) for i in 1:length(t_sink)]\n",
    "had_2ptfn_src = [read_hadspec_file(had, m, p_src, sources, sinks, file_prefix[i]) for i in 1:length(t_sink)]\n",
    "had_2ptfn_snk = [read_hadspec_file(had, m, p_snk, sources, sinks, file_prefix[i]) for i in 1:length(t_sink)];\n",
    "\n",
    "if make_hermitian\n",
    "    [make_hermitian!(had_3ptfn[i]) for i in 1:length(t_sink)]\n",
    "    [make_hermitian!(had_2ptfn_src[i]) for i in 1:length(t_sink)]\n",
    "    [make_hermitian!(had_2ptfn_snk[i]) for i in 1:length(t_sink)]\n",
    "end;"
   ]
  },
  {
   "cell_type": "code",
   "execution_count": null,
   "metadata": {
    "collapsed": false,
    "scrolled": true
   },
   "outputs": [],
   "source": [
    "### Process data ###\n",
    "\n",
    "had_mass, had_mass_err = Array{Array{Float64,2},1}(length(t_sink)), Array{Array{Float64,2},1}(length(t_sink))\n",
    "had_ff, had_ff_err = Array{Array{Float64,2},1}(length(t_sink)), Array{Array{Float64,2},1}(length(t_sink))\n",
    "had_vecs, had_vecs_err = Array{Array{Float64,1},1}(length(t_sink)), Array{Array{Float64,1},1}(length(t_sink))\n",
    "for i in 1:length(t_sink)\n",
    "    had_mass[i], had_mass_err[i], had_ff[i], had_ff_err[i], had_vecs[i], had_vecs_err[i] = find_mass_ff_and_vecs(had_3ptfn[i], had_2ptfn_src[i], had_2ptfn_snk[i], t_sink[i], t_gen_ev, t_var, t_sn, hide_prog=hide_prog)\n",
    "end;"
   ]
  },
  {
   "cell_type": "code",
   "execution_count": null,
   "metadata": {
    "collapsed": false
   },
   "outputs": [],
   "source": [
    "### Fit data ###\n",
    "\n",
    "if fit_data\n",
    "    limits, mass_sys, mass_sys_err = scan_range_2ptfn(had_2ptfn_snk[3], t_gen_ev, t_var, t_sn, [8e-9, 0.36], func=\"cosh\", hide_prog=hide_prog)\n",
    "    mass_stat, mass_stat_err = find_mass_fit(had_2ptfn_snk[3], t_gen_ev, t_var, t_sn, limits, [8e-9, 0.36], func=\"cosh\", hide_prog=hide_prog)\n",
    "    \n",
    "    println(\"\\n\\nEffective masses extracted from the fit\\n\\n\")\n",
    "    type_labels = [\"Point\", \"\\$G1\\$\", \"\\$\\\\nabla^2 G1\\$\", \"\\$G2\\$\", \"\\$\\\\nabla^2 G2\\$\", \"Var\", \"Var + S/N\", \"S/N\"]\n",
    "    for x in 1:8\n",
    "        name = type_labels[x]*\" \"^(13-length(type_labels[x]))\n",
    "        @printf \"%s: %.4f +- %.4f (stat) +- %.4f (sys)\\n\" name mass_stat[x] mass_stat_err[x] mass_sys_err[x]\n",
    "    end\n",
    "end"
   ]
  },
  {
   "cell_type": "markdown",
   "metadata": {},
   "source": [
    "### Mass plots\n",
    "\n",
    "Here are a few mass plots just to verify that things are working correctly."
   ]
  },
  {
   "cell_type": "code",
   "execution_count": null,
   "metadata": {
    "collapsed": false,
    "scrolled": false
   },
   "outputs": [],
   "source": [
    "type_labels = [\"Point\", \"\\$G1\\$\", \"\\$\\\\nabla^2 G1\\$\", \"\\$G2\\$\", \"\\$\\\\nabla^2 G2\\$\", \"Var\", \"Var + S/N\", \"S/N\"]\n",
    "figure(1,figsize=(16, 16))\n",
    "\n",
    "for x in 1:8\n",
    "    subplot(810+x)\n",
    "    errorbar(0:(length(had_mass[length(t_sink)][x,:])-1), had_mass[length(t_sink)][x,:], yerr=had_mass_err[length(t_sink)][x,:], color=\"b\", ecolor=\"b\", capsize=2, fmt=\"o\")\n",
    "    text(15., 0.55, type_labels[x], fontsize=20)\n",
    "    ylabel(\"\\$m_{eff}\\$\", fontsize=20) \n",
    "    xlim(-0.5, size_t/2+0.5)\n",
    "    ylim(0., 0.7)\n",
    "    yticks(0.:0.2:0.6, fontsize=16)\n",
    "    if x == 8\n",
    "        xlabel(\"\\$\\\\Delta t\\$\", fontsize=20)\n",
    "        xticks(0:5:30, fontsize=16)\n",
    "    else\n",
    "        xticks(0:5:30, fontsize=0)\n",
    "    end\n",
    "    if fit_data\n",
    "        times = [(limits[x,1]:limits[x,2])-1;]\n",
    "        y = [log(cosh_func(i,size_t,[1.,mass_stat[x]])/cosh_func(i+1,size_t,[1.,mass_stat[x]])) for i in limits[x,1]:limits[x,2]]\n",
    "        yminuserr = [log(cosh_func(i,size_t,[1.,mass_stat[x]-mass_stat_err[x]-mass_sys_err[x]])/cosh_func(i+1,size_t,[1.,mass_stat[x]-mass_stat_err[x]-mass_sys_err[x]])) for i in limits[x,1]:limits[x,2]]\n",
    "        ypluserr = [log(cosh_func(i,size_t,[1.,mass_stat[x]+mass_stat_err[x]+mass_sys_err[x]])/cosh_func(i+1,size_t,[1.,mass_stat[x]+mass_stat_err[x]+mass_sys_err[x]])) for i in limits[x,1]:limits[x,2]]\n",
    "        plot(times, y, color=\"red\")\n",
    "        fill_between(times, yminuserr, ypluserr, alpha=0.3, color=\"red\")\n",
    "    end\n",
    "    grid()\n",
    "end;"
   ]
  },
  {
   "cell_type": "markdown",
   "metadata": {},
   "source": [
    "And here are the plots plotted together."
   ]
  },
  {
   "cell_type": "code",
   "execution_count": null,
   "metadata": {
    "collapsed": false,
    "scrolled": false
   },
   "outputs": [],
   "source": [
    "type_labels = [\"Point\", \"\\$G1\\$\", \"\\$\\\\nabla^2 G1\\$\", \"\\$G2\\$\", \"\\$\\\\nabla^2 G2\\$\", \"Var\", \"Var + S/N\", \"S/N\"]\n",
    "colors = [\"b\", \"g\", \"k\", \"m\", \"r\"]\n",
    "markers = [\"^\", \"s\", \"o\", \"8\", \"x\", \"*\"]\n",
    "figure(2,figsize=(16, 8))\n",
    "\n",
    "for x in 1:8\n",
    "    errorbar((0:(length(had_mass[length(t_sink)][x,:])-1))+0.05*(x-1), had_mass[length(t_sink)][x,:], yerr=had_mass_err[length(t_sink)][x,:], color=colors[mod(x-1,length(colors))+1], ecolor=colors[mod(x-1,length(colors))+1], capsize=2, fmt=markers[mod(x-1,length(markers))+1], label=type_labels[x])\n",
    "    ylabel(\"\\$m_{eff}\\$\", fontsize=20) \n",
    "    xlim(-0.5, size_t/2+0.5)\n",
    "    ylim(0.2, 0.7)\n",
    "    yticks(0.2:0.1:0.6, fontsize=16)\n",
    "    if x == 8\n",
    "        xlabel(\"\\$\\\\Delta t\\$\", fontsize=20)\n",
    "        xticks(0:5:30, fontsize=16)\n",
    "    else\n",
    "        xticks([])\n",
    "    end\n",
    "end\n",
    "legend(bbox_to_anchor=(0., 1.02, 1., .102), loc=8, ncol=4, mode=\"expand\", borderaxespad=0., fontsize=16)\n",
    "grid();"
   ]
  },
  {
   "cell_type": "markdown",
   "metadata": {},
   "source": [
    "### Comparison of extracted masses (if fits are available)"
   ]
  },
  {
   "cell_type": "code",
   "execution_count": null,
   "metadata": {
    "collapsed": false
   },
   "outputs": [],
   "source": [
    "if fit_data\n",
    "    type_labels = [\"Point\", \"\\$G1\\$\", \"\\$\\\\nabla^2 G1\\$\", \"\\$G2\\$\", \"\\$\\\\nabla^2 G2\\$\", \"Var\", \"Var + S/N\", \"S/N\"]\n",
    "    figure(3, figsize=(16, 8))\n",
    "    x = 1:8\n",
    "    y = [mass_stat[i] for i in 1:8]\n",
    "    yerr = [mass_stat_err[i]+mass_sys_err[i] for i in 1:8]\n",
    "    errorbar(x, y, yerr=yerr, color=\"b\", ecolor=\"b\", capsize=2, fmt=\"o\")\n",
    "    xlim(0, 9)\n",
    "    xticks(x, type_labels, rotation=60, fontsize=16)\n",
    "    yticks(0.33:0.01:0.39, fontsize=16)\n",
    "    ylabel(\"\\$m_{eff}\\$\", fontsize=20)\n",
    "    grid()\n",
    "end;"
   ]
  },
  {
   "cell_type": "markdown",
   "metadata": {},
   "source": [
    "### Charge/form factor plots"
   ]
  },
  {
   "cell_type": "code",
   "execution_count": null,
   "metadata": {
    "collapsed": false,
    "scrolled": false
   },
   "outputs": [],
   "source": [
    "type_labels = [\"Point\", \"\\$G1\\$\", \"\\$\\\\nabla^2 G1\\$\", \"\\$G2\\$\", \"\\$\\\\nabla^2 G2\\$\", \"Var\", \"Var + S/N\", \"S/N\"]\n",
    "colors = [\"b\", \"g\", \"k\", \"m\", \"r\"]\n",
    "markers = [\"^\", \"s\", \"o\", \"8\", \"x\", \"*\"]\n",
    "figure(4, figsize=(16, 16))\n",
    "for x in 1:8, y in 1:length(t_sink)\n",
    "    subplot(810+x)\n",
    "    errorbar((0:(length(had_ff[y][x,:])-1))+0.1(y-1), had_ff[y][x,:], yerr=had_ff_err[y][x,:], color=colors[y], ecolor=colors[y], capsize=2, fmt=markers[y], label=\"\\$t_{sink}=$(t_sink[y])\\$\")\n",
    "    ylabel(\"\\$R\\$\", fontsize=20)\n",
    "    text(10., 0.88, type_labels[x], fontsize=20)\n",
    "    xlim(-0.5, t_sink[length(t_sink)]+0.5)\n",
    "    ylim(0.4, 1)\n",
    "    yticks(0.4:0.2:1., fontsize=16)\n",
    "    if x == 8\n",
    "        xlabel(\"\\$\\\\tau\\$\", fontsize=20)\n",
    "        xticks(0:5:t_sink[length(t_sink)], fontsize=16)\n",
    "    else\n",
    "        xticks(0:5:t_sink[length(t_sink)], fontsize=0)\n",
    "    end\n",
    "    if x == 1\n",
    "        legend(bbox_to_anchor=(0., 1.02, 1., .102), loc=3, ncol=3, mode=\"expand\", borderaxespad=0., fontsize=16)\n",
    "    end\n",
    "    grid()\n",
    "end"
   ]
  },
  {
   "cell_type": "code",
   "execution_count": null,
   "metadata": {
    "collapsed": false
   },
   "outputs": [],
   "source": [
    "type_labels = [\"Point\", \"\\$G1\\$\", \"\\$\\\\nabla^2 G1\\$\", \"\\$G2\\$\", \"\\$\\\\nabla^2 G2\\$\", \"Var\", \"Var + S/N\", \"S/N\"]\n",
    "colors = [\"b\", \"g\", \"k\", \"m\", \"r\"]\n",
    "markers = [\"^\", \"s\", \"o\", \"8\", \"x\", \"*\"]\n",
    "fig = figure(figsize=(16, 8))\n",
    "@manipulate for t_snk in togglebuttons(t_sink, value=t_sink[length(t_sink)], label=\"\\$t_{sink}\\$\")\n",
    "    withfig(fig) do\n",
    "        y = findfirst(t_sink, t_snk)\n",
    "        for x in 1:8\n",
    "            errorbar((0:(length(had_ff[y][x,:])-1))+0.05*(x-1), had_ff[y][x,:], yerr=had_ff_err[y][x,:], color=colors[mod(x-1,length(colors))+1], ecolor=colors[mod(x-1,length(colors))+1], capsize=2, fmt=markers[mod(x-1,length(markers))+1], label=type_labels[x])\n",
    "            ylabel(\"\\$R\\$\", fontsize=20)\n",
    "            xlim(-0.5, t_sink[y]+0.5)\n",
    "            ylim(0.4, 1)\n",
    "            yticks(0.4:0.2:1., fontsize=16)\n",
    "            if x == 8\n",
    "                xlabel(\"\\$\\\\tau\\$\", fontsize=20)\n",
    "                xticks(0:5:t_sink[y], fontsize=16)\n",
    "            else\n",
    "                xticks(0:5:t_sink[y], fontsize=0)\n",
    "            end\n",
    "        end\n",
    "        grid()\n",
    "        legend(bbox_to_anchor=(0., 1.02, 1., .102), loc=8, ncol=4, mode=\"expand\", borderaxespad=0., fontsize=16)\n",
    "        text(10., 0.88, \"\\$t_{snk} = $(t_snk)\\$\", fontsize=20)\n",
    "    end;\n",
    "end"
   ]
  },
  {
   "cell_type": "markdown",
   "metadata": {
    "collapsed": true
   },
   "source": [
    "### Variational vs S/N vector comparison"
   ]
  },
  {
   "cell_type": "code",
   "execution_count": null,
   "metadata": {
    "collapsed": false
   },
   "outputs": [],
   "source": [
    "bar_width = 0.25\n",
    "opacity = 0.4\n",
    "figure(4, figsize=(12, 6))\n",
    "\n",
    "bar(1:5, had_vecs[length(t_sink)][1:5], bar_width, alpha=opacity, color=\"b\", ecolor=\"b\", yerr=had_vecs_err[length(t_sink)][1:5], label=\"Variational\")\n",
    "bar((1:5)+bar_width, had_vecs[length(t_sink)][6:10], bar_width, alpha=opacity, color=\"r\", ecolor=\"r\", yerr=had_vecs_err[length(t_sink)][6:10], label=\"S/N source\")\n",
    "bar((1:5)+2bar_width, had_vecs[length(t_sink)][11:15], bar_width, alpha=opacity, color=\"g\", ecolor=\"g\", yerr=had_vecs_err[length(t_sink)][11:15], label=\"S/N sink\")\n",
    "\n",
    "xlabel(\"Component\", fontsize=20)\n",
    "ylabel(\"Absolute value\", fontsize=20)\n",
    "xticks((1:5) + 1.5bar_width, [\"Point\", \"\\$G1\\$\", \"\\$\\\\nabla^2 G1\\$\", \"\\$G2\\$\", \"\\$\\\\nabla^2 G2\\$\"], fontsize=16)\n",
    "yticks(0:0.2:1.2, fontsize=16)\n",
    "ylim(0., 1.2)\n",
    "legend(fontsize=16)\n",
    "tight_layout()"
   ]
  },
  {
   "cell_type": "code",
   "execution_count": null,
   "metadata": {
    "collapsed": false
   },
   "outputs": [],
   "source": [
    "av = mean(had_3ptfn[3],1)[1,1,:,:]\n",
    "\n",
    "for x in 1:5, y in x:5\n",
    "    println(\"$x $y  \",abs((av[x,y]-av[y,x]')/abs(av[x,y])))\n",
    "end"
   ]
  },
  {
   "cell_type": "code",
   "execution_count": null,
   "metadata": {
    "collapsed": true
   },
   "outputs": [],
   "source": []
  }
 ],
 "metadata": {
  "anaconda-cloud": {},
  "hide_input": false,
  "kernelspec": {
   "display_name": "Julia 0.5.0",
   "language": "julia",
   "name": "julia-0.5"
  },
  "language_info": {
   "file_extension": ".jl",
   "mimetype": "application/julia",
   "name": "julia",
   "version": "0.5.0"
  }
 },
 "nbformat": 4,
 "nbformat_minor": 1
}
